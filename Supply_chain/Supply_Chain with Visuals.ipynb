{
 "cells": [
  {
   "cell_type": "code",
   "execution_count": 1,
   "id": "adc34601",
   "metadata": {},
   "outputs": [],
   "source": [
    "import pandas as pd\n",
    "import numpy as np\n",
    "import matplotlib.pyplot as plt\n",
    "import seaborn as sns\n",
    "from sklearn.model_selection import train_test_split\n",
    "from sklearn.preprocessing import StandardScaler\n",
    "from sklearn.ensemble import RandomForestRegressor\n",
    "from sklearn.metrics import mean_absolute_error, mean_squared_error"
   ]
  },
  {
   "cell_type": "code",
   "execution_count": 2,
   "id": "f0a571c5",
   "metadata": {},
   "outputs": [],
   "source": [
    "# Load dataset\n",
    "file_path = \"DataCoSupplyChainDataset.csv\"\n",
    "df = pd.read_csv(file_path, encoding='latin1')"
   ]
  },
  {
   "cell_type": "code",
   "execution_count": null,
   "id": "59847be9",
   "metadata": {},
   "outputs": [],
   "source": [
    "# Drop irrelevant columns\n",
    "drop_cols = ['Customer Email', 'Customer Fname', 'Customer Lname', 'Customer Password',\n",
    "             'Product Description', 'Product Image', 'Order Zipcode']\n",
    "df = df.drop(columns=drop_cols)\n",
    "\n",
    "# Convert date columns to datetime\n",
    "df['order date (DateOrders)'] = pd.to_datetime(df['order date (DateOrders)'])\n",
    "df['shipping date (DateOrders)'] = pd.to_datetime(df['shipping date (DateOrders)'])\n",
    "\n",
    "# Create new features\n",
    "df['shipping_days_taken'] = (df['shipping date (DateOrders)'] - df['order date (DateOrders)']).dt.days\n",
    "df['shipping_delay'] = df['shipping_days_taken'] - df['Days for shipment (scheduled)']\n",
    "\n",
    "# Drop original date columns\n",
    "df = df.drop(columns=['order date (DateOrders)', 'shipping date (DateOrders)'])\n",
    "\n",
    "# Handle missing values\n",
    "df = df.dropna()\n",
    "\n",
    "X = X.drop(columns=['shipping_days_taken', 'Days for shipment (scheduled)'])\n",
    "\n"
   ]
  },
  {
   "cell_type": "code",
   "execution_count": 11,
   "id": "b12e9b3e",
   "metadata": {},
   "outputs": [],
   "source": [
    "# Encode categorical variables\n",
    "df = pd.get_dummies(df, drop_first=True)\n",
    "\n",
    "# Define features and target\n",
    "X = df.drop(columns=['shipping_delay'])\n",
    "y = df['shipping_delay']\n",
    "\n",
    "# Split dataset\n",
    "X_train, X_test, y_train, y_test = train_test_split(X, y, test_size=0.2, random_state=42)\n",
    "\n",
    "# Scale numerical features\n",
    "scaler = StandardScaler()\n",
    "X_train = scaler.fit_transform(X_train)\n",
    "X_test = scaler.transform(X_test)\n",
    "\n"
   ]
  },
  {
   "cell_type": "code",
   "execution_count": 12,
   "id": "989f61f9",
   "metadata": {},
   "outputs": [
    {
     "name": "stdout",
     "output_type": "stream",
     "text": [
      "count    180516.000000\n",
      "mean          0.540013\n",
      "std           1.491892\n",
      "min          -2.000000\n",
      "25%           0.000000\n",
      "50%           1.000000\n",
      "75%           1.000000\n",
      "max           4.000000\n",
      "Name: shipping_delay, dtype: float64\n",
      "[-1  1  0 -2  2  4  3]\n"
     ]
    }
   ],
   "source": [
    "print(y.describe())\n",
    "print(y.unique())\n",
    "\n",
    "\n"
   ]
  },
  {
   "cell_type": "code",
   "execution_count": null,
   "id": "4f0bdb23",
   "metadata": {},
   "outputs": [
    {
     "data": {
      "image/png": "[encoded data removed]",
      "text/plain": [
       "<Figure size 800x600 with 1 Axes>"
      ]
     },
     "metadata": {},
     "output_type": "display_data"
    },
    {
     "name": "stdout",
     "output_type": "stream",
     "text": [
      "MAE: 0.00, RMSE: 0.00\n"
     ]
    }
   ],
   "source": [
    "# Train a Random Forest model\n",
    "model = RandomForestRegressor(n_estimators=100, random_state=42)\n",
    "model.fit(X_train, y_train)\n",
    "\n",
    "# Predict and evaluate\n",
    "y_pred = model.predict(X_test)\n",
    "mae = mean_absolute_error(y_test, y_pred)\n",
    "mse = mean_squared_error(y_test, y_pred)\n",
    "rmse = np.sqrt(mse)\n",
    "\n",
    "# Visualization\n",
    "plt.figure(figsize=(8,6))\n",
    "sns.histplot(y_test - y_pred, bins=30, kde=True)\n",
    "plt.xlabel(\"Prediction Error\")\n",
    "plt.ylabel(\"Frequency\")\n",
    "plt.title(\"Error Distribution of Shipping Delay Predictions\")\n",
    "plt.show()\n",
    "\n",
    "print(f\"MAE: {mae:.2f}, RMSE: {rmse:.2f}\")\n",
    "\n"
   ]
  },
  {
   "cell_type": "code",
   "execution_count": 2,
   "id": "ceff7358",
   "metadata": {},
   "outputs": [
    {
     "ename": "NameError",
     "evalue": "name 'RandomForestRegressor' is not defined",
     "output_type": "error",
     "traceback": [
      "\u001b[31m---------------------------------------------------------------------------\u001b[39m",
      "\u001b[31mNameError\u001b[39m                                 Traceback (most recent call last)",
      "\u001b[36mCell\u001b[39m\u001b[36m \u001b[39m\u001b[32mIn[2]\u001b[39m\u001b[32m, line 8\u001b[39m\n\u001b[32m      3\u001b[39m \u001b[38;5;28;01mfrom\u001b[39;00m\u001b[38;5;250m \u001b[39m\u001b[34;01msklearn\u001b[39;00m\u001b[34;01m.\u001b[39;00m\u001b[34;01mmetrics\u001b[39;00m\u001b[38;5;250m \u001b[39m\u001b[38;5;28;01mimport\u001b[39;00m mean_absolute_error, mean_squared_error\n\u001b[32m      4\u001b[39m \u001b[38;5;28;01mimport\u001b[39;00m\u001b[38;5;250m \u001b[39m\u001b[34;01mmatplotlib\u001b[39;00m\u001b[34;01m.\u001b[39;00m\u001b[34;01mpyplot\u001b[39;00m\u001b[38;5;250m \u001b[39m\u001b[38;5;28;01mas\u001b[39;00m\u001b[38;5;250m \u001b[39m\u001b[34;01mplt\u001b[39;00m\n\u001b[32m      6\u001b[39m models = {\n\u001b[32m      7\u001b[39m     \u001b[33m\"\u001b[39m\u001b[33mLinear Regression\u001b[39m\u001b[33m\"\u001b[39m: LinearRegression(),\n\u001b[32m----> \u001b[39m\u001b[32m8\u001b[39m     \u001b[33m\"\u001b[39m\u001b[33mRandom Forest\u001b[39m\u001b[33m\"\u001b[39m: \u001b[43mRandomForestRegressor\u001b[49m(n_estimators=\u001b[32m100\u001b[39m, random_state=\u001b[32m42\u001b[39m),\n\u001b[32m      9\u001b[39m     \u001b[33m\"\u001b[39m\u001b[33mGradient Boosting\u001b[39m\u001b[33m\"\u001b[39m: GradientBoostingRegressor(n_estimators=\u001b[32m100\u001b[39m, random_state=\u001b[32m42\u001b[39m)\n\u001b[32m     10\u001b[39m }\n\u001b[32m     11\u001b[39m results = {}\n\u001b[32m     13\u001b[39m \u001b[38;5;28;01mfor\u001b[39;00m name, model \u001b[38;5;129;01min\u001b[39;00m models.items():\n",
      "\u001b[31mNameError\u001b[39m: name 'RandomForestRegressor' is not defined"
     ]
    }
   ],
   "source": [
    "from sklearn.linear_model import LinearRegression\n",
    "from sklearn.ensemble import GradientBoostingRegressor\n",
    "from sklearn.metrics import mean_absolute_error, mean_squared_error\n",
    "import matplotlib.pyplot as plt\n",
    "\n",
    "models = {\n",
    "    \"Linear Regression\": LinearRegression(),\n",
    "    \"Random Forest\": RandomForestRegressor(n_estimators=100, random_state=42),\n",
    "    \"Gradient Boosting\": GradientBoostingRegressor(n_estimators=100, random_state=42)\n",
    "}\n",
    "results = {}\n",
    "\n",
    "for name, model in models.items():\n",
    "    model.fit(X_train, y_train)\n",
    "    preds = model.predict(X_test)\n",
    "    mae = mean_absolute_error(y_test, preds)\n",
    "    rmse = np.sqrt(mean_squared_error(y_test, preds))\n",
    "    results[name] = {\"MAE\": mae, \"RMSE\": rmse}\n",
    "\n",
    "# Results DataFrame\n",
    "results_df = pd.DataFrame(results).T\n",
    "\n",
    "# Barplot of MAE and RMSE\n",
    "results_df.plot(kind='bar', figsize=(10,6))\n",
    "plt.title(\"Model Comparison\")\n",
    "plt.ylabel(\"Error\")\n",
    "plt.xticks(rotation=0)\n",
    "plt.grid(True)\n",
    "plt.tight_layout()\n",
    "plt.show()"
   ]
  },
  {
   "cell_type": "code",
   "execution_count": 1,
   "id": "33ca01d7",
   "metadata": {},
   "outputs": [
    {
     "ename": "NameError",
     "evalue": "name 'models' is not defined",
     "output_type": "error",
     "traceback": [
      "\u001b[31m---------------------------------------------------------------------------\u001b[39m",
      "\u001b[31mNameError\u001b[39m                                 Traceback (most recent call last)",
      "\u001b[36mCell\u001b[39m\u001b[36m \u001b[39m\u001b[32mIn[1]\u001b[39m\u001b[32m, line 1\u001b[39m\n\u001b[32m----> \u001b[39m\u001b[32m1\u001b[39m importances = \u001b[43mmodels\u001b[49m[\u001b[33m\"\u001b[39m\u001b[33mRandom Forest\u001b[39m\u001b[33m\"\u001b[39m].feature_importances_\n\u001b[32m      2\u001b[39m feature_names = X.columns\n\u001b[32m      4\u001b[39m imp_df = pd.DataFrame({\u001b[33m\"\u001b[39m\u001b[33mFeature\u001b[39m\u001b[33m\"\u001b[39m: feature_names, \u001b[33m\"\u001b[39m\u001b[33mImportance\u001b[39m\u001b[33m\"\u001b[39m: importances})\n",
      "\u001b[31mNameError\u001b[39m: name 'models' is not defined"
     ]
    }
   ],
   "source": [
    "importances = models[\"Random Forest\"].feature_importances_\n",
    "feature_names = X.columns\n",
    "\n",
    "imp_df = pd.DataFrame({\"Feature\": feature_names, \"Importance\": importances})\n",
    "imp_df = imp_df.sort_values(by=\"Importance\", ascending=False)\n",
    "\n",
    "plt.figure(figsize=(12, 6))\n",
    "sns.barplot(x=\"Importance\", y=\"Feature\", data=imp_df.head(15))\n",
    "plt.title(\"Top 15 Feature Importances (Random Forest)\")\n",
    "plt.tight_layout()\n",
    "plt.show()\n"
   ]
  },
  {
   "cell_type": "code",
   "execution_count": null,
   "id": "9380910c",
   "metadata": {},
   "outputs": [],
   "source": [
    "best_model = models[\"Gradient Boosting\"]\n",
    "residuals = y_test - best_model.predict(X_test)\n",
    "\n",
    "plt.figure(figsize=(8, 5))\n",
    "sns.scatterplot(x=best_model.predict(X_test), y=residuals)\n",
    "plt.axhline(0, linestyle='--', color='red')\n",
    "plt.xlabel(\"Predicted\")\n",
    "plt.ylabel(\"Residuals\")\n",
    "plt.title(\"Residuals Plot - Gradient Boosting\")\n",
    "plt.show()\n"
   ]
  }
 ],
 "metadata": {
  "kernelspec": {
   "display_name": "Python 3",
   "language": "python",
   "name": "python3"
  },
  "language_info": {
   "codemirror_mode": {
    "name": "ipython",
    "version": 3
   },
   "file_extension": ".py",
   "mimetype": "text/x-python",
   "name": "python",
   "nbconvert_exporter": "python",
   "pygments_lexer": "ipython3",
   "version": "3.12.0"
  }
 },
 "nbformat": 4,
 "nbformat_minor": 5
}
